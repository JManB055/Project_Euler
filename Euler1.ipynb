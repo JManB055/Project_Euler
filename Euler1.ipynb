{
 "cells": [
  {
   "cell_type": "code",
   "execution_count": null,
   "id": "e0449dcd",
   "metadata": {},
   "outputs": [],
   "source": [
    "# Joshua Wyckoff\n",
    "# Problem 1: Multiples of 3 or 5\n",
    "# If we list all the natural numbers below 10 that are multiples of 3 or 5, we get 3, 5, 6 and 9. The sum of these multiples is 23.\n",
    "# Find the sum of all the multiples of 3 or 5 below 1000.\n",
    "\n",
    "# Tested algorithm with known result, then changed max to 1000 for final result.\n",
    "#max = 10\n",
    "max = 1000\n",
    "m1 = 3\n",
    "m2 = 5\n",
    "sum = 0\n",
    "\n",
    "# Iterate through all numbers below max. If the number is a multiple of m1 or m2, add it to the sum.\n",
    "for i in range(max):\n",
    "    if ((i % m1 == 0) or (i % m2 == 0)):\n",
    "        sum += i\n",
    "\n",
    "print(sum)"
   ]
  }
 ],
 "metadata": {
  "kernelspec": {
   "display_name": "Python 3",
   "language": "python",
   "name": "python3"
  },
  "language_info": {
   "codemirror_mode": {
    "name": "ipython",
    "version": 3
   },
   "file_extension": ".py",
   "mimetype": "text/x-python",
   "name": "python",
   "nbconvert_exporter": "python",
   "pygments_lexer": "ipython3",
   "version": "3.9.6"
  }
 },
 "nbformat": 4,
 "nbformat_minor": 5
}
